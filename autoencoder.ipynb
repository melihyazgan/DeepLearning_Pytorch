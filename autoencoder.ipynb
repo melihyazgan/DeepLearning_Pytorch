{
 "cells": [
  {
   "cell_type": "code",
   "execution_count": 31,
   "metadata": {},
   "outputs": [],
   "source": [
    "# import packages\n",
    "import os\n",
    "import torch \n",
    "import torchvision\n",
    "import torch.nn as nn\n",
    "import torchvision.transforms as transforms\n",
    "import torch.optim as optim\n",
    "import matplotlib.pyplot as plt\n",
    "import torch.nn.functional as F\n",
    " \n",
    "from torchvision import datasets\n",
    "from torch.utils.data import DataLoader\n",
    "from torchvision.utils import save_image\n",
    "from nets import Autoencoder_linear,VAE"
   ]
  },
  {
   "cell_type": "code",
   "execution_count": 32,
   "metadata": {},
   "outputs": [],
   "source": [
    "NUM_EPOCHS = 15\n",
    "LEARNING_RATE = 1e-3\n",
    "BATCH_SIZE = 32\n",
    "ae='VAE'\n",
    "transform = transforms.Compose([transforms.ToTensor(),transforms.Normalize(mean=(0.5,), std=(0.5,))])"
   ]
  },
  {
   "cell_type": "code",
   "execution_count": 33,
   "metadata": {},
   "outputs": [],
   "source": [
    "trainset = datasets.FashionMNIST(root='./data',train=True,download=True, transform=transforms.ToTensor())\n",
    "trainLoader=DataLoader(dataset=trainset,batch_size=BATCH_SIZE,shuffle=True)\n",
    "##\n",
    "testset = datasets.FashionMNIST(root='./data',train=False,download=True, transform=transforms.ToTensor())\n",
    "testLoader=DataLoader(dataset=testset,batch_size=BATCH_SIZE,shuffle=True)"
   ]
  },
  {
   "cell_type": "code",
   "execution_count": 34,
   "metadata": {},
   "outputs": [],
   "source": [
    "# utility functions\n",
    "def get_device():\n",
    "    if torch.cuda.is_available():\n",
    "        device = 'cuda:0'\n",
    "    else:\n",
    "        device = 'cpu'\n",
    "    return device\n",
    "def make_dir(ae):\n",
    "    if not os.path.exists(ae):\n",
    "        os.makedirs(ae)\n",
    "def save_decoded_image(img, epoch,ae):\n",
    "    img = img.view(img.size(0), 1, 28, 28)\n",
    "    save_image(img, './{}/decode_image{}.png'.format(ae,epoch))\n",
    "\n",
    "device = get_device()"
   ]
  },
  {
   "cell_type": "code",
   "execution_count": 42,
   "metadata": {},
   "outputs": [],
   "source": [
    "def train(net, trainloader, NUM_EPOCHS):\n",
    "    criterion = nn.MSELoss()\n",
    "    optimizer = optim.Adam(net.parameters(),lr=LEARNING_RATE)\n",
    "    train_loss = []\n",
    "    for epoch in range(NUM_EPOCHS):\n",
    "        running_loss = 0.0\n",
    "        for data in trainloader:\n",
    "            img, _ = data\n",
    "            img = img.to(device)\n",
    "            img = img.view(img.size(0), -1)\n",
    "            optimizer.zero_grad()\n",
    "            outputs = net(img)\n",
    "            loss = criterion(outputs, img)\n",
    "            loss.backward()\n",
    "            optimizer.step()\n",
    "            running_loss += loss.item()\n",
    "        \n",
    "        loss = running_loss / len(trainloader)\n",
    "        train_loss.append(loss)\n",
    "        print('Epoch {} of {}, Train Loss: {:.3f}'.format(\n",
    "            epoch+1, NUM_EPOCHS, loss))\n",
    "\n",
    "        if epoch % 5 == 0:\n",
    "            save_decoded_image(outputs.cpu().data, epoch,ae)\n",
    "\n",
    "    return train_loss\n",
    "\n",
    "def vae_train(net, trainloader, NUM_EPOCHS):\n",
    "    optimizer = optim.Adam(net.parameters(), lr=LEARNING_RATE)\n",
    "    criterion = nn.BCELoss(reduction='sum')\n",
    "    #criterion = nn.MSELoss()\n",
    "    train_loss = []\n",
    "    for epoch in range(NUM_EPOCHS):  # loop over the dataset multiple times\n",
    "        running_loss = 0.0\n",
    "        for data in trainloader:\n",
    "            inputs, _ = data\n",
    "            inputs = inputs.to(device)\n",
    "            inputs = inputs.view(inputs.size(0), -1)\n",
    "            optimizer.zero_grad()\n",
    "            reconstruction, mu, logvar = net(inputs)\n",
    "            bce_loss = criterion(reconstruction, inputs)\n",
    "            loss = VAE.final_loss(bce_loss, mu, logvar)\n",
    "            running_loss += loss.item()\n",
    "            loss.backward()\n",
    "            optimizer.step()\n",
    "\n",
    "            # print statistics\n",
    "        loss = running_loss / len(trainloader)\n",
    "        train_loss.append(loss)\n",
    "        print('Epoch {} of {}, Train Loss: {:.3f}'.format(\n",
    "            epoch+1, NUM_EPOCHS, loss))\n",
    "\n",
    "        if epoch % 5 == 0:\n",
    "            save_decoded_image(reconstruction.cpu().data, epoch,ae)\n",
    "    return train_loss\n",
    "\n",
    "def test_image_reconstruction(net, testloader):\n",
    "     for batch in testloader:\n",
    "        img, _ = batch\n",
    "        img = img.to(device)\n",
    "        img = img.view(img.size(0), -1)\n",
    "        if ae=='VAE':\n",
    "            outputs,mu,logvar = net(img)\n",
    "        else:\n",
    "            outputs = net(img)\n",
    "        outputs = outputs.view(outputs.size(0), 1, 28, 28).cpu().data\n",
    "        save_image(outputs, 'images_reconstruction.png')\n",
    "        break"
   ]
  },
  {
   "cell_type": "code",
   "execution_count": 44,
   "metadata": {},
   "outputs": [
    {
     "name": "stdout",
     "output_type": "stream",
     "text": [
      "Autoencoder_linear(\n",
      "  (enc1): Linear(in_features=784, out_features=256, bias=True)\n",
      "  (enc2): Linear(in_features=256, out_features=128, bias=True)\n",
      "  (enc3): Linear(in_features=128, out_features=64, bias=True)\n",
      "  (enc4): Linear(in_features=64, out_features=32, bias=True)\n",
      "  (enc5): Linear(in_features=32, out_features=16, bias=True)\n",
      "  (dec1): Linear(in_features=16, out_features=32, bias=True)\n",
      "  (dec2): Linear(in_features=32, out_features=64, bias=True)\n",
      "  (dec3): Linear(in_features=64, out_features=128, bias=True)\n",
      "  (dec4): Linear(in_features=128, out_features=256, bias=True)\n",
      "  (dec5): Linear(in_features=256, out_features=784, bias=True)\n",
      ")\n"
     ]
    },
    {
     "ename": "AttributeError",
     "evalue": "'list' object has no attribute 'to'",
     "output_type": "error",
     "traceback": [
      "\u001b[1;31m---------------------------------------------------------------------------\u001b[0m",
      "\u001b[1;31mAttributeError\u001b[0m                            Traceback (most recent call last)",
      "Cell \u001b[1;32mIn[44], line 12\u001b[0m\n\u001b[0;32m     10\u001b[0m     \u001b[39mprint\u001b[39m(net)\n\u001b[0;32m     11\u001b[0m     net\u001b[39m.\u001b[39mto(device)\n\u001b[1;32m---> 12\u001b[0m     train_loss \u001b[39m=\u001b[39m train(net, trainLoader, NUM_EPOCHS)\n\u001b[0;32m     13\u001b[0m \u001b[39m# train the network\u001b[39;00m\n\u001b[0;32m     14\u001b[0m plt\u001b[39m.\u001b[39mfigure()\n",
      "Cell \u001b[1;32mIn[42], line 9\u001b[0m, in \u001b[0;36mtrain\u001b[1;34m(net, trainloader, NUM_EPOCHS)\u001b[0m\n\u001b[0;32m      6\u001b[0m running_loss \u001b[39m=\u001b[39m \u001b[39m0.0\u001b[39m\n\u001b[0;32m      7\u001b[0m \u001b[39mfor\u001b[39;00m img \u001b[39min\u001b[39;00m trainloader:\n\u001b[0;32m      8\u001b[0m     \u001b[39m#img, _ = data\u001b[39;00m\n\u001b[1;32m----> 9\u001b[0m     img \u001b[39m=\u001b[39m img\u001b[39m.\u001b[39;49mto(device)\n\u001b[0;32m     10\u001b[0m     img \u001b[39m=\u001b[39m img\u001b[39m.\u001b[39mview(img\u001b[39m.\u001b[39msize(\u001b[39m0\u001b[39m), \u001b[39m-\u001b[39m\u001b[39m1\u001b[39m)\n\u001b[0;32m     11\u001b[0m     optimizer\u001b[39m.\u001b[39mzero_grad()\n",
      "\u001b[1;31mAttributeError\u001b[0m: 'list' object has no attribute 'to'"
     ]
    }
   ],
   "source": [
    "ae='AE'\n",
    "make_dir(ae)\n",
    "if ae=='VAE':\n",
    "    net = VAE()\n",
    "    print(net)\n",
    "    net.to(device)\n",
    "    train_loss=vae_train(net, trainLoader, NUM_EPOCHS)\n",
    "else:\n",
    "    net = Autoencoder_linear()\n",
    "    print(net)\n",
    "    net.to(device)\n",
    "    train_loss = train(net, trainLoader, NUM_EPOCHS)\n",
    "# train the network\n",
    "plt.figure()\n",
    "plt.plot(train_loss)\n",
    "plt.title('Train Loss')\n",
    "plt.xlabel('Epochs')\n",
    "plt.ylabel('Loss')\n",
    "plt.savefig('loss.png')\n",
    "# test the network\n",
    "test_image_reconstruction(net, testLoader)"
   ]
  },
  {
   "cell_type": "code",
   "execution_count": null,
   "metadata": {},
   "outputs": [],
   "source": []
  }
 ],
 "metadata": {
  "kernelspec": {
   "display_name": "openmmlab",
   "language": "python",
   "name": "python3"
  },
  "language_info": {
   "codemirror_mode": {
    "name": "ipython",
    "version": 3
   },
   "file_extension": ".py",
   "mimetype": "text/x-python",
   "name": "python",
   "nbconvert_exporter": "python",
   "pygments_lexer": "ipython3",
   "version": "3.8.15"
  },
  "orig_nbformat": 4
 },
 "nbformat": 4,
 "nbformat_minor": 2
}
